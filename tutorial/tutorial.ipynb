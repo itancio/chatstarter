{
 "cells": [
  {
   "cell_type": "markdown",
   "metadata": {},
   "source": [
    "# Discord Clone Tutorial\n",
    "\n",
    "I. Build basic UI for messaging\n",
    "\n",
    "\n",
    "## Tutorial part 1: \n",
    "* Setting up Convex\n",
    "* Setting up Clerk\n",
    "* Setting Friends dashboard\n",
    "\n",
    "## Tutorial part 2:\n",
    "* Setting up API routes\n",
    "* Setting up messaging and servers\n",
    "\n",
    "Database: We want the user and messages to persist. We will be using Convex to handle and store messsages between our users. \n",
    "For users:\n",
    "* username\n",
    "* image\n",
    "* id\n",
    "For messages:\n",
    "* sender\n",
    "* message\n",
    "\n",
    "```bash\n",
    "pnpm add -D npm-run-all\n",
    "pnpm convex dev\n",
    "pnpm add @clerk/nextjs\n",
    "```"
   ]
  },
  {
   "cell_type": "code",
   "execution_count": null,
   "metadata": {},
   "outputs": [],
   "source": []
  }
 ],
 "metadata": {
  "kernelspec": {
   "display_name": "Python 3 (ipykernel)",
   "language": "python",
   "name": "python3"
  },
  "language_info": {
   "codemirror_mode": {
    "name": "ipython",
    "version": 3
   },
   "file_extension": ".py",
   "mimetype": "text/x-python",
   "name": "python",
   "nbconvert_exporter": "python",
   "pygments_lexer": "ipython3",
   "version": "3.11.7"
  }
 },
 "nbformat": 4,
 "nbformat_minor": 4
}
